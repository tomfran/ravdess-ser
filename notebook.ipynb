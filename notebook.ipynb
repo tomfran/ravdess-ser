{
 "cells": [
  {
   "cell_type": "markdown",
   "metadata": {},
   "source": [
    "# Audio pattern recognition"
   ]
  },
  {
   "cell_type": "code",
   "execution_count": 1,
   "metadata": {},
   "outputs": [],
   "source": [
    "import seaborn as sns\n",
    "\n",
    "from src.utility import show_duration_distribution, plot_history\n",
    "from src.data_processing import FeatureExtractor\n",
    "from src.dataset import Dataset\n",
    "\n",
    "sns.set_theme()\n",
    "speech_path, song_path, save_path = \"data/raw/speech\", \"data/raw/song\", \"data/processed\""
   ]
  },
  {
   "cell_type": "markdown",
   "metadata": {},
   "source": [
    "## Audio duration analysis\n",
    "Plot of the average speech and song duration. The feature extractor fixes the len to the max len. "
   ]
  },
  {
   "cell_type": "code",
   "execution_count": 2,
   "metadata": {},
   "outputs": [
    {
     "name": "stderr",
     "output_type": "stream",
     "text": [
      "100%|██████████| 24/24 [00:31<00:00,  1.31s/it]\n"
     ]
    },
    {
     "data": {
      "image/png": "[encoded data removed]",
      "text/plain": [
       "<Figure size 1080x360 with 2 Axes>"
      ]
     },
     "metadata": {
      "needs_background": "light"
     },
     "output_type": "display_data"
    },
    {
     "name": "stdout",
     "output_type": "stream",
     "text": [
      "Max len of data samples:  130226\n"
     ]
    }
   ],
   "source": [
    "MAX_LEN = show_duration_distribution(speech_path, song_path, limit_per_actor=5)\n",
    "print(\"Max len of data samples: \", MAX_LEN)"
   ]
  },
  {
   "cell_type": "markdown",
   "metadata": {},
   "source": [
    "## Preprocessing and feature extraction\n",
    "\n",
    "The first step of the methodology consists in extracting the first 13 mfcc from the speech and song files."
   ]
  },
  {
   "cell_type": "code",
   "execution_count": 3,
   "metadata": {},
   "outputs": [
    {
     "name": "stdout",
     "output_type": "stream",
     "text": [
      "Data found on disk\n"
     ]
    }
   ],
   "source": [
    "MAX_LEN = 140526\n",
    "fe = FeatureExtractor(speech_path=speech_path, \n",
    "                      song_path=song_path,\n",
    "                      save_path=save_path, \n",
    "                      verbose=True, \n",
    "                      file_per_actor_limit=-1, \n",
    "                      audio_fixed_size=MAX_LEN)\n",
    "\n",
    "data = fe.get_training_data(overwrite=False)"
   ]
  },
  {
   "cell_type": "markdown",
   "metadata": {},
   "source": [
    "# SVM, K-NN and NN comparison\n",
    "\n",
    "After extracting features, the first part of the project consists in comparing the performance of Neural Networks, SVM and K-NN. They are tested on the emotion label."
   ]
  },
  {
   "cell_type": "code",
   "execution_count": 4,
   "metadata": {},
   "outputs": [],
   "source": [
    "d = Dataset(data)\n",
    "X_train, X_val, X_test, y_train, y_val, y_test = d.get_training_data(\"merge\", train_perc=0.6, val_perc=0.2)"
   ]
  },
  {
   "cell_type": "markdown",
   "metadata": {},
   "source": [
    "### SVM training"
   ]
  },
  {
   "cell_type": "code",
   "execution_count": 5,
   "metadata": {},
   "outputs": [
    {
     "name": "stdout",
     "output_type": "stream",
     "text": [
      "SVM Accuracy on train: 0.8072122052704577\n",
      "SVM Accuracy on test:  0.6798336798336798\n"
     ]
    }
   ],
   "source": [
    "from sklearn.svm import SVC\n",
    "\n",
    "x, _ = y_train.shape\n",
    "x2, _ = y_test.shape\n",
    "reshaped_y_train = y_train.reshape(x)\n",
    "reshaped_y_test = y_test.reshape(x2)\n",
    "\n",
    "svm_model = SVC()\n",
    "svm_model.fit(X_train, reshaped_y_train)\n",
    "print(f\"SVM Accuracy on train: {svm_model.score(X_train, reshaped_y_train)}\")\n",
    "print(f\"SVM Accuracy on test:  {svm_model.score(X_test, reshaped_y_test)}\")"
   ]
  },
  {
   "cell_type": "markdown",
   "metadata": {},
   "source": [
    "### KNN training\n",
    "Here K is set to be sqrt of the number of training samples."
   ]
  },
  {
   "cell_type": "code",
   "execution_count": 6,
   "metadata": {},
   "outputs": [
    {
     "name": "stdout",
     "output_type": "stream",
     "text": [
      "37-NN Accuracy on test: 0.5322245322245323\n"
     ]
    }
   ],
   "source": [
    "from sklearn.neighbors import KNeighborsClassifier as KNN\n",
    "\n",
    "k = int(len(y_train)**(1/2))\n",
    "k += int((k%2)==0)\n",
    "\n",
    "knn_model = KNN(k)\n",
    "knn_model.fit(X_train, reshaped_y_train)    \n",
    "\n",
    "print(f\"{k}-NN Accuracy on test: {knn_model.score(X_test, reshaped_y_test)}\")"
   ]
  },
  {
   "cell_type": "markdown",
   "metadata": {},
   "source": [
    "### Neural network training\n"
   ]
  },
  {
   "cell_type": "code",
   "execution_count": 7,
   "metadata": {},
   "outputs": [],
   "source": [
    "import tensorflow as tf\n",
    "from tensorflow.keras.models import Sequential\n",
    "from tensorflow.keras.layers import Dense, Input \n",
    "from tensorflow.keras.losses import SparseCategoricalCrossentropy\n",
    "from matplotlib import pyplot as plt\n",
    "\n",
    "nn_model = Sequential()\n",
    "nn_model.add(Input(shape=X_train[0].shape))\n",
    "nn_model.add(Dense(200, activation=\"relu\"))\n",
    "nn_model.add(Dense(80, activation=\"relu\"))\n",
    "nn_model.add(Dense(30, activation=\"relu\"))\n",
    "nn_model.add(Dense(8, activation=\"softmax\"))\n",
    "nn_model.compile(optimizer='sgd', loss=SparseCategoricalCrossentropy(), metrics=[\"accuracy\"])"
   ]
  },
  {
   "cell_type": "code",
   "execution_count": 8,
   "metadata": {},
   "outputs": [
    {
     "name": "stdout",
     "output_type": "stream",
     "text": [
      "Epoch 1/70\n",
      "46/46 [==============================] - 1s 6ms/step - loss: 1.9835 - accuracy: 0.2365 - val_loss: 1.9308 - val_accuracy: 0.2614\n",
      "Epoch 2/70\n",
      "46/46 [==============================] - 0s 3ms/step - loss: 1.7638 - accuracy: 0.3523 - val_loss: 1.8111 - val_accuracy: 0.3195\n",
      "Epoch 3/70\n",
      "46/46 [==============================] - 0s 3ms/step - loss: 1.6266 - accuracy: 0.4078 - val_loss: 1.7067 - val_accuracy: 0.3734\n",
      "Epoch 4/70\n",
      "46/46 [==============================] - 0s 3ms/step - loss: 1.5043 - accuracy: 0.4771 - val_loss: 1.5924 - val_accuracy: 0.4419\n",
      "Epoch 5/70\n",
      "46/46 [==============================] - 0s 3ms/step - loss: 1.3948 - accuracy: 0.5368 - val_loss: 1.5073 - val_accuracy: 0.4523\n",
      "Epoch 6/70\n",
      "46/46 [==============================] - 0s 3ms/step - loss: 1.2938 - accuracy: 0.5721 - val_loss: 1.4448 - val_accuracy: 0.4751\n",
      "Epoch 7/70\n",
      "46/46 [==============================] - 0s 3ms/step - loss: 1.2056 - accuracy: 0.6061 - val_loss: 1.3649 - val_accuracy: 0.5290\n",
      "Epoch 8/70\n",
      "46/46 [==============================] - 0s 3ms/step - loss: 1.1241 - accuracy: 0.6380 - val_loss: 1.3091 - val_accuracy: 0.5332\n",
      "Epoch 9/70\n",
      "46/46 [==============================] - 0s 3ms/step - loss: 1.0496 - accuracy: 0.6748 - val_loss: 1.2705 - val_accuracy: 0.5415\n",
      "Epoch 10/70\n",
      "46/46 [==============================] - 0s 3ms/step - loss: 0.9879 - accuracy: 0.6907 - val_loss: 1.2466 - val_accuracy: 0.5394\n",
      "Epoch 11/70\n",
      "46/46 [==============================] - 0s 3ms/step - loss: 0.9327 - accuracy: 0.7087 - val_loss: 1.2329 - val_accuracy: 0.5539\n",
      "Epoch 12/70\n",
      "46/46 [==============================] - 0s 3ms/step - loss: 0.8881 - accuracy: 0.7198 - val_loss: 1.1586 - val_accuracy: 0.5747\n",
      "Epoch 13/70\n",
      "46/46 [==============================] - 0s 3ms/step - loss: 0.8363 - accuracy: 0.7344 - val_loss: 1.1338 - val_accuracy: 0.5726\n",
      "Epoch 14/70\n",
      "46/46 [==============================] - 0s 3ms/step - loss: 0.7901 - accuracy: 0.7490 - val_loss: 1.1505 - val_accuracy: 0.5851\n",
      "Epoch 15/70\n",
      "46/46 [==============================] - 0s 3ms/step - loss: 0.7554 - accuracy: 0.7601 - val_loss: 1.0845 - val_accuracy: 0.6203\n",
      "Epoch 16/70\n",
      "46/46 [==============================] - 0s 3ms/step - loss: 0.7145 - accuracy: 0.7725 - val_loss: 1.1117 - val_accuracy: 0.6141\n",
      "Epoch 17/70\n",
      "46/46 [==============================] - 0s 3ms/step - loss: 0.6843 - accuracy: 0.7857 - val_loss: 1.1287 - val_accuracy: 0.5934\n",
      "Epoch 18/70\n",
      "46/46 [==============================] - 0s 3ms/step - loss: 0.6506 - accuracy: 0.7975 - val_loss: 1.0849 - val_accuracy: 0.6245\n",
      "Epoch 19/70\n",
      "46/46 [==============================] - 0s 3ms/step - loss: 0.6181 - accuracy: 0.8141 - val_loss: 1.1047 - val_accuracy: 0.6120\n",
      "Epoch 20/70\n",
      "46/46 [==============================] - 0s 4ms/step - loss: 0.5973 - accuracy: 0.8128 - val_loss: 1.0165 - val_accuracy: 0.6577\n",
      "Epoch 21/70\n",
      "46/46 [==============================] - 0s 3ms/step - loss: 0.5585 - accuracy: 0.8315 - val_loss: 1.0792 - val_accuracy: 0.6349\n",
      "Epoch 22/70\n",
      "46/46 [==============================] - 0s 3ms/step - loss: 0.5418 - accuracy: 0.8405 - val_loss: 1.2231 - val_accuracy: 0.6100\n",
      "Epoch 23/70\n",
      "46/46 [==============================] - 0s 3ms/step - loss: 0.5186 - accuracy: 0.8460 - val_loss: 0.9801 - val_accuracy: 0.6722\n",
      "Epoch 24/70\n",
      "46/46 [==============================] - 0s 3ms/step - loss: 0.4871 - accuracy: 0.8551 - val_loss: 1.0455 - val_accuracy: 0.6245\n",
      "Epoch 25/70\n",
      "46/46 [==============================] - 0s 3ms/step - loss: 0.4652 - accuracy: 0.8669 - val_loss: 1.2246 - val_accuracy: 0.6224\n",
      "Epoch 26/70\n",
      "46/46 [==============================] - 0s 3ms/step - loss: 0.4486 - accuracy: 0.8717 - val_loss: 0.9598 - val_accuracy: 0.6701\n",
      "Epoch 27/70\n",
      "46/46 [==============================] - 0s 3ms/step - loss: 0.4143 - accuracy: 0.8842 - val_loss: 0.9824 - val_accuracy: 0.6598\n",
      "Epoch 28/70\n",
      "46/46 [==============================] - 0s 3ms/step - loss: 0.4030 - accuracy: 0.8897 - val_loss: 0.9850 - val_accuracy: 0.6618\n",
      "Epoch 29/70\n",
      "46/46 [==============================] - 0s 3ms/step - loss: 0.3786 - accuracy: 0.8974 - val_loss: 0.9803 - val_accuracy: 0.6680\n",
      "Epoch 30/70\n",
      "46/46 [==============================] - 0s 3ms/step - loss: 0.3587 - accuracy: 0.9043 - val_loss: 0.9592 - val_accuracy: 0.6826\n",
      "Epoch 31/70\n",
      "46/46 [==============================] - 0s 3ms/step - loss: 0.3405 - accuracy: 0.9092 - val_loss: 0.9318 - val_accuracy: 0.6826\n",
      "Epoch 32/70\n",
      "46/46 [==============================] - 0s 4ms/step - loss: 0.3224 - accuracy: 0.9202 - val_loss: 1.1385 - val_accuracy: 0.6432\n",
      "Epoch 33/70\n",
      "46/46 [==============================] - 0s 3ms/step - loss: 0.3172 - accuracy: 0.9202 - val_loss: 0.9118 - val_accuracy: 0.6950\n",
      "Epoch 34/70\n",
      "46/46 [==============================] - 0s 3ms/step - loss: 0.2949 - accuracy: 0.9369 - val_loss: 0.9461 - val_accuracy: 0.6929\n",
      "Epoch 35/70\n",
      "46/46 [==============================] - 0s 3ms/step - loss: 0.2777 - accuracy: 0.9431 - val_loss: 0.9171 - val_accuracy: 0.6929\n",
      "Epoch 36/70\n",
      "46/46 [==============================] - 0s 3ms/step - loss: 0.2579 - accuracy: 0.9487 - val_loss: 0.9261 - val_accuracy: 0.6971\n",
      "Epoch 37/70\n",
      "46/46 [==============================] - 0s 3ms/step - loss: 0.2527 - accuracy: 0.9494 - val_loss: 0.9209 - val_accuracy: 0.6971\n",
      "Epoch 38/70\n",
      "46/46 [==============================] - 0s 3ms/step - loss: 0.2384 - accuracy: 0.9542 - val_loss: 0.9230 - val_accuracy: 0.6992\n",
      "Epoch 39/70\n",
      "46/46 [==============================] - 0s 3ms/step - loss: 0.2230 - accuracy: 0.9591 - val_loss: 0.9058 - val_accuracy: 0.7033\n",
      "Epoch 40/70\n",
      "46/46 [==============================] - 0s 3ms/step - loss: 0.2160 - accuracy: 0.9584 - val_loss: 0.9083 - val_accuracy: 0.6992\n",
      "Epoch 41/70\n",
      "46/46 [==============================] - 0s 3ms/step - loss: 0.2043 - accuracy: 0.9674 - val_loss: 0.9179 - val_accuracy: 0.6992\n",
      "Epoch 42/70\n",
      "46/46 [==============================] - 0s 3ms/step - loss: 0.1911 - accuracy: 0.9702 - val_loss: 0.9448 - val_accuracy: 0.7075\n",
      "Epoch 43/70\n",
      "46/46 [==============================] - 0s 3ms/step - loss: 0.1865 - accuracy: 0.9688 - val_loss: 0.9064 - val_accuracy: 0.7054\n",
      "Epoch 44/70\n",
      "46/46 [==============================] - 0s 3ms/step - loss: 0.1741 - accuracy: 0.9757 - val_loss: 0.9169 - val_accuracy: 0.7054\n",
      "Epoch 45/70\n",
      "46/46 [==============================] - 0s 3ms/step - loss: 0.1650 - accuracy: 0.9778 - val_loss: 0.9230 - val_accuracy: 0.7075\n",
      "Epoch 46/70\n",
      "46/46 [==============================] - 0s 3ms/step - loss: 0.1566 - accuracy: 0.9806 - val_loss: 1.0509 - val_accuracy: 0.6846\n",
      "Epoch 47/70\n",
      "46/46 [==============================] - 0s 3ms/step - loss: 0.1532 - accuracy: 0.9771 - val_loss: 0.9920 - val_accuracy: 0.6929\n",
      "Epoch 48/70\n",
      "46/46 [==============================] - 0s 3ms/step - loss: 0.1456 - accuracy: 0.9778 - val_loss: 0.9169 - val_accuracy: 0.7116\n",
      "Epoch 49/70\n",
      "46/46 [==============================] - 0s 3ms/step - loss: 0.1353 - accuracy: 0.9840 - val_loss: 0.9201 - val_accuracy: 0.7199\n",
      "Epoch 50/70\n",
      "46/46 [==============================] - 0s 3ms/step - loss: 0.1289 - accuracy: 0.9854 - val_loss: 0.9220 - val_accuracy: 0.7075\n",
      "Epoch 51/70\n",
      "46/46 [==============================] - 0s 3ms/step - loss: 0.1215 - accuracy: 0.9875 - val_loss: 0.9646 - val_accuracy: 0.7116\n",
      "Epoch 52/70\n",
      "46/46 [==============================] - 0s 3ms/step - loss: 0.1160 - accuracy: 0.9875 - val_loss: 0.9231 - val_accuracy: 0.7137\n",
      "Epoch 53/70\n",
      "46/46 [==============================] - 0s 3ms/step - loss: 0.1113 - accuracy: 0.9903 - val_loss: 0.9553 - val_accuracy: 0.7033\n",
      "Epoch 54/70\n",
      "46/46 [==============================] - 0s 3ms/step - loss: 0.1073 - accuracy: 0.9882 - val_loss: 0.9442 - val_accuracy: 0.7137\n",
      "Epoch 55/70\n",
      "46/46 [==============================] - 0s 4ms/step - loss: 0.1006 - accuracy: 0.9896 - val_loss: 0.9489 - val_accuracy: 0.7054\n",
      "Epoch 56/70\n",
      "46/46 [==============================] - 0s 3ms/step - loss: 0.0950 - accuracy: 0.9903 - val_loss: 0.9414 - val_accuracy: 0.7054\n",
      "Epoch 57/70\n",
      "46/46 [==============================] - 0s 3ms/step - loss: 0.0912 - accuracy: 0.9924 - val_loss: 0.9645 - val_accuracy: 0.7178\n",
      "Epoch 58/70\n",
      "46/46 [==============================] - 0s 3ms/step - loss: 0.0884 - accuracy: 0.9917 - val_loss: 0.9514 - val_accuracy: 0.7033\n",
      "Epoch 59/70\n",
      "46/46 [==============================] - 0s 3ms/step - loss: 0.0832 - accuracy: 0.9938 - val_loss: 0.9476 - val_accuracy: 0.7054\n",
      "Epoch 60/70\n",
      "46/46 [==============================] - 0s 3ms/step - loss: 0.0802 - accuracy: 0.9951 - val_loss: 0.9614 - val_accuracy: 0.7137\n",
      "Epoch 61/70\n",
      "46/46 [==============================] - 0s 3ms/step - loss: 0.0765 - accuracy: 0.9958 - val_loss: 0.9598 - val_accuracy: 0.7137\n",
      "Epoch 62/70\n",
      "46/46 [==============================] - 0s 3ms/step - loss: 0.0740 - accuracy: 0.9951 - val_loss: 0.9615 - val_accuracy: 0.7178\n",
      "Epoch 63/70\n",
      "46/46 [==============================] - 0s 3ms/step - loss: 0.0712 - accuracy: 0.9965 - val_loss: 0.9687 - val_accuracy: 0.7241\n",
      "Epoch 64/70\n",
      "46/46 [==============================] - 0s 3ms/step - loss: 0.0673 - accuracy: 0.9972 - val_loss: 0.9638 - val_accuracy: 0.7158\n",
      "Epoch 65/70\n",
      "46/46 [==============================] - 0s 3ms/step - loss: 0.0643 - accuracy: 0.9979 - val_loss: 0.9666 - val_accuracy: 0.7158\n",
      "Epoch 66/70\n",
      "46/46 [==============================] - 0s 3ms/step - loss: 0.0611 - accuracy: 0.9993 - val_loss: 0.9916 - val_accuracy: 0.7075\n",
      "Epoch 67/70\n",
      "46/46 [==============================] - 0s 3ms/step - loss: 0.0590 - accuracy: 0.9979 - val_loss: 0.9958 - val_accuracy: 0.7075\n",
      "Epoch 68/70\n",
      "46/46 [==============================] - 0s 3ms/step - loss: 0.0579 - accuracy: 0.9979 - val_loss: 0.9795 - val_accuracy: 0.7178\n",
      "Epoch 69/70\n",
      "46/46 [==============================] - 0s 3ms/step - loss: 0.0543 - accuracy: 0.9979 - val_loss: 0.9817 - val_accuracy: 0.7158\n",
      "Epoch 70/70\n",
      "46/46 [==============================] - 0s 3ms/step - loss: 0.0518 - accuracy: 0.9979 - val_loss: 0.9879 - val_accuracy: 0.7220\n"
     ]
    }
   ],
   "source": [
    "history = nn_model.fit(X_train, y_train, validation_data=(X_val, y_val), epochs=70, verbose=1)"
   ]
  },
  {
   "cell_type": "code",
   "execution_count": 9,
   "metadata": {},
   "outputs": [
    {
     "data": {
      "image/png": "[encoded data removed]",
      "text/plain": [
       "<Figure size 1080x360 with 2 Axes>"
      ]
     },
     "metadata": {
      "needs_background": "light"
     },
     "output_type": "display_data"
    }
   ],
   "source": [
    "plot_history(history)"
   ]
  },
  {
   "cell_type": "code",
   "execution_count": 10,
   "metadata": {},
   "outputs": [
    {
     "name": "stdout",
     "output_type": "stream",
     "text": [
      "16/16 [==============================] - 0s 2ms/step - loss: 1.0039 - accuracy: 0.6923\n"
     ]
    },
    {
     "data": {
      "text/plain": [
       "[1.00387704372406, 0.692307710647583]"
      ]
     },
     "execution_count": 10,
     "metadata": {},
     "output_type": "execute_result"
    }
   ],
   "source": [
    "nn_model.evaluate(X_test, y_test)"
   ]
  }
 ],
 "metadata": {
  "interpreter": {
   "hash": "916dbcbb3f70747c44a77c7bcd40155683ae19c65e1c03b4aa3499c5328201f1"
  },
  "kernelspec": {
   "display_name": "Python 3.8.10 64-bit",
   "language": "python",
   "name": "python3"
  },
  "language_info": {
   "codemirror_mode": {
    "name": "ipython",
    "version": 3
   },
   "file_extension": ".py",
   "mimetype": "text/x-python",
   "name": "python",
   "nbconvert_exporter": "python",
   "pygments_lexer": "ipython3",
   "version": "3.8.10"
  }
 },
 "nbformat": 4,
 "nbformat_minor": 0
}
