{
 "cells": [
  {
   "cell_type": "markdown",
   "metadata": {},
   "source": [
    "# Audio pattern recognition"
   ]
  },
  {
   "cell_type": "code",
   "execution_count": 1,
   "metadata": {},
   "outputs": [],
   "source": [
    "import librosa as lb\n",
    "import os\n",
    "\n",
    "from tqdm import tqdm\n",
    "import matplotlib.pyplot as plt\n",
    "import seaborn as sns\n",
    "\n",
    "from pprint import pprint\n",
    "\n",
    "from src.utility import show_duration_distribution\n",
    "from src.data_processing import FeatureExtractor\n",
    "\n",
    "sns.set_theme()\n",
    "speech_path, song_path, save_path = \"data/raw/speech\", \"data/raw/song\", \"data/processed\""
   ]
  },
  {
   "cell_type": "markdown",
   "metadata": {},
   "source": [
    "## Audio duration analysis\n",
    "Plot of the average speech and song duration. The feature extractor fixes the len to the max len. "
   ]
  },
  {
   "cell_type": "code",
   "execution_count": null,
   "metadata": {},
   "outputs": [],
   "source": [
    "MAX_LEN = show_duration_distribution(speech_path, song_path, limit_per_actor=-1)\n",
    "print(\"Max len of data samples: \", MAX_LEN)"
   ]
  },
  {
   "cell_type": "markdown",
   "metadata": {},
   "source": [
    "## Preprocessing and feature extraction\n",
    "\n",
    "The first step of the methodology consists in extracting the first 13 mfcc from the speech and song files."
   ]
  },
  {
   "cell_type": "code",
   "execution_count": 2,
   "metadata": {},
   "outputs": [
    {
     "name": "stdout",
     "output_type": "stream",
     "text": [
      "Extracting features from audio files: \n"
     ]
    },
    {
     "name": "stderr",
     "output_type": "stream",
     "text": [
      "100%|██████████| 24/24 [00:31<00:00,  1.30s/it]\n"
     ]
    }
   ],
   "source": [
    "fe = FeatureExtractor(speech_path=speech_path, \n",
    "                      song_path=song_path,\n",
    "                      save_path=save_path, \n",
    "                      verbose=True, \n",
    "                      file_per_actor_limit=-1)\n",
    "\n",
    "speech_feature_array, song_feature_array, speech_label_array, song_label_array = fe.get_training_data(overwrite=True)"
   ]
  },
  {
   "cell_type": "code",
   "execution_count": 3,
   "metadata": {},
   "outputs": [
    {
     "data": {
      "text/plain": [
       "((1416, 3575), (989, 3575), (1416, 3), (989, 3))"
      ]
     },
     "execution_count": 3,
     "metadata": {},
     "output_type": "execute_result"
    }
   ],
   "source": [
    "speech_feature_array.shape, song_feature_array.shape, speech_label_array.shape, song_label_array.shape"
   ]
  },
  {
   "cell_type": "markdown",
   "metadata": {},
   "source": [
    "# Neural Network, SVM and K-NN comparison\n",
    "\n",
    "After extracting features, the first part of the project consists in comparing the performance of Neural Networks, SVM and K-NN. They are tested on emotion and intensity label. The first one has 8 different values, while the second is a binary task."
   ]
  },
  {
   "cell_type": "markdown",
   "metadata": {},
   "source": [
    "# Clustering visualization\n",
    "\n",
    "After scaling the dataframes, two features are extracted with PCA to visualize data, the colors represent the label. \n",
    "Later on, this result will be compared to embeddings learned by an encoder - decoder pair."
   ]
  },
  {
   "cell_type": "markdown",
   "metadata": {},
   "source": [
    "Confrontare NN, KNN, SVM\n",
    "\n",
    "Confronto embedding con PCA, auto-encoder, convolutional auto-encoder\n",
    "https://towardsdatascience.com/fishers-linear-discriminant-intuitively-explained-52a1ba79e1bb\n",
    "\n",
    "Classificare con embedding migliora? NO"
   ]
  }
 ],
 "metadata": {
  "interpreter": {
   "hash": "916dbcbb3f70747c44a77c7bcd40155683ae19c65e1c03b4aa3499c5328201f1"
  },
  "kernelspec": {
   "display_name": "Python 3.8.10 64-bit",
   "language": "python",
   "name": "python3"
  },
  "language_info": {
   "codemirror_mode": {
    "name": "ipython",
    "version": 3
   },
   "file_extension": ".py",
   "mimetype": "text/x-python",
   "name": "python",
   "nbconvert_exporter": "python",
   "pygments_lexer": "ipython3",
   "version": "3.8.10"
  }
 },
 "nbformat": 4,
 "nbformat_minor": 0
}
